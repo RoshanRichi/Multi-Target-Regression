{
 "cells": [
  {
   "cell_type": "markdown",
   "metadata": {},
   "source": [
    "Multi Target/Output Regression"
   ]
  },
  {
   "cell_type": "code",
   "execution_count": 1,
   "metadata": {},
   "outputs": [
    {
     "name": "stdout",
     "output_type": "stream",
     "text": [
      "0.23.1\n"
     ]
    }
   ],
   "source": [
    "#check scikit learn version\n",
    "import sklearn\n",
    "print(sklearn.__version__)"
   ]
  },
  {
   "cell_type": "code",
   "execution_count": 3,
   "metadata": {},
   "outputs": [
    {
     "name": "stdout",
     "output_type": "stream",
     "text": [
      "[[-0.80010451  0.96150923  0.78041757 ... -1.18535205  1.74964536\n",
      "  -0.99781203]\n",
      " [-0.97366497  0.49817924 -0.11582605 ... -0.22708001 -0.38461918\n",
      "  -0.29350746]\n",
      " [ 0.06522037 -0.72740964 -0.17305963 ...  1.67720227  0.99231315\n",
      "  -0.6082635 ]\n",
      " ...\n",
      " [ 0.23419489  0.55849441 -0.5979833  ...  0.26754105 -0.69902938\n",
      "  -1.90897215]\n",
      " [ 0.40035719 -1.22880419 -0.14764946 ...  0.10849524  0.07273139\n",
      "   2.41397311]\n",
      " [-0.38853852 -1.5223212   0.58391046 ... -1.08326314 -0.58932159\n",
      "   0.66628631]] [[  -8.5395577   -22.02746201]\n",
      " [ -67.03125466  -23.27890206]\n",
      " [ -12.2828592    -9.31352121]\n",
      " ...\n",
      " [  16.53377847   -0.93830318]\n",
      " [-112.98157086    5.36213462]\n",
      " [ -99.75538684  -71.43242636]]\n"
     ]
    }
   ],
   "source": [
    "# example of multioutput regression test problem\n",
    "from sklearn.datasets import make_regression\n",
    "# create datasets\n",
    "X, y = make_regression(n_samples=1000, n_features=10, n_informative=5, n_targets=2)\n",
    "# summarize dataset\n",
    "print(X, y)"
   ]
  },
  {
   "cell_type": "markdown",
   "metadata": {},
   "source": [
    "Linear Regression  "
   ]
  },
  {
   "cell_type": "code",
   "execution_count": 4,
   "metadata": {},
   "outputs": [],
   "source": [
    "from sklearn.linear_model import LinearRegression"
   ]
  },
  {
   "cell_type": "code",
   "execution_count": 6,
   "metadata": {},
   "outputs": [
    {
     "data": {
      "text/plain": [
       "array([[ 4.03221859, 18.31832791]])"
      ]
     },
     "execution_count": 6,
     "metadata": {},
     "output_type": "execute_result"
    }
   ],
   "source": [
    "# define model\n",
    "model = LinearRegression()\n",
    "# fit model\n",
    "model.fit(X, y)\n",
    "# make a prediction\n",
    "test_data = [[0.21947749, 0.32948997, 0.81560036, 0.440956, -0.0606303, -0.29257894, -0.2820059, -0.00290545, 0.96402263, 0.04992249]]\n",
    "model.predict(test_data)"
   ]
  },
  {
   "cell_type": "markdown",
   "metadata": {},
   "source": [
    "Decision Tree Regression"
   ]
  },
  {
   "cell_type": "code",
   "execution_count": 7,
   "metadata": {},
   "outputs": [],
   "source": [
    "from sklearn.tree import DecisionTreeRegressor"
   ]
  },
  {
   "cell_type": "code",
   "execution_count": 8,
   "metadata": {},
   "outputs": [
    {
     "data": {
      "text/plain": [
       "array([[27.32340437, 31.54205611]])"
      ]
     },
     "execution_count": 8,
     "metadata": {},
     "output_type": "execute_result"
    }
   ],
   "source": [
    "# define model\n",
    "model = DecisionTreeRegressor()\n",
    "# fit model\n",
    "model.fit(X, y)\n",
    "# make a prediction\n",
    "test_data = [[0.21947749, 0.32948997, 0.81560036, 0.440956, -0.0606303, -0.29257894, -0.2820059, -0.00290545, 0.96402263, 0.04992249]]\n",
    "model.predict(test_data)"
   ]
  },
  {
   "cell_type": "markdown",
   "metadata": {},
   "source": [
    "K-Nearest Neighbors"
   ]
  },
  {
   "cell_type": "code",
   "execution_count": 9,
   "metadata": {},
   "outputs": [],
   "source": [
    "from sklearn.neighbors import KNeighborsRegressor"
   ]
  },
  {
   "cell_type": "code",
   "execution_count": 10,
   "metadata": {},
   "outputs": [
    {
     "data": {
      "text/plain": [
       "array([[11.58203011, 19.19999729]])"
      ]
     },
     "execution_count": 10,
     "metadata": {},
     "output_type": "execute_result"
    }
   ],
   "source": [
    "# define model\n",
    "model = KNeighborsRegressor()\n",
    "# fit model\n",
    "model.fit(X, y)\n",
    "# make a prediction\n",
    "test_data = [[0.21947749, 0.32948997, 0.81560036, 0.440956, -0.0606303, -0.29257894, -0.2820059, -0.00290545, 0.96402263, 0.04992249]]\n",
    "model.predict(test_data)"
   ]
  },
  {
   "cell_type": "markdown",
   "metadata": {},
   "source": [
    "Random Forest Regressor"
   ]
  },
  {
   "cell_type": "code",
   "execution_count": 12,
   "metadata": {},
   "outputs": [],
   "source": [
    "from sklearn.ensemble import RandomForestRegressor"
   ]
  },
  {
   "cell_type": "code",
   "execution_count": 13,
   "metadata": {},
   "outputs": [
    {
     "data": {
      "text/plain": [
       "array([[ 8.82125303, 20.83694901]])"
      ]
     },
     "execution_count": 13,
     "metadata": {},
     "output_type": "execute_result"
    }
   ],
   "source": [
    "# define model\n",
    "model = RandomForestRegressor()\n",
    "# fit model\n",
    "model.fit(X, y)\n",
    "# make a prediction\n",
    "test_data = [[0.21947749, 0.32948997, 0.81560036, 0.440956, -0.0606303, -0.29257894, -0.2820059, -0.00290545, 0.96402263, 0.04992249]]\n",
    "model.predict(test_data)"
   ]
  },
  {
   "cell_type": "markdown",
   "metadata": {},
   "source": [
    "Evaluate MOR with Cross Validation"
   ]
  },
  {
   "cell_type": "code",
   "execution_count": 26,
   "metadata": {},
   "outputs": [
    {
     "name": "stdout",
     "output_type": "stream",
     "text": [
      "MAE: 0.000 (0.000)\n",
      "[5.66308025e-14 6.07765921e-14 8.69439243e-14 7.17811227e-14\n",
      " 4.27893138e-14]\n"
     ]
    }
   ],
   "source": [
    "# evaluate multioutput regression model with k-fold cross-validation\n",
    "from numpy import absolute\n",
    "from numpy import mean\n",
    "from numpy import std\n",
    "from sklearn.linear_model import LinearRegression\n",
    "from sklearn.model_selection import cross_val_score\n",
    "from sklearn.model_selection import RepeatedKFold\n",
    "# create datasets\n",
    "X, y = make_regression(n_samples=1000, n_features=10, n_informative=5, n_targets=2)\n",
    "# define model\n",
    "model = LinearRegression()\n",
    "# define the evaluation procedure\n",
    "cv = RepeatedKFold(n_splits=10, n_repeats=3, random_state=1)\n",
    "# evaluate the model and collect the scores\n",
    "n_scores = cross_val_score(model, X, y, scoring='neg_mean_absolute_error', cv=5)\n",
    "# force the scores to be positive\n",
    "n_scores = absolute(n_scores)\n",
    "# summarize performance\n",
    "print('MAE: %.3f (%.3f)' % (mean(n_scores), std(n_scores)))\n",
    "print(n_scores)"
   ]
  },
  {
   "cell_type": "markdown",
   "metadata": {},
   "source": [
    "Wrapper MOR/MTR\n",
    "Not all regression algorithms support multioutput regression.\n",
    "One example is the support vector machine, although for regression, it is referred to as support vector regression, or SVR.\n",
    "\n",
    "The most obvious way to do this is to split a multioutput regression problem into multiple single-output regression problems.\n",
    "For example, if a multioutput regression problem required the prediction of three values y1, y2 and y3 given an input X, then this could be partitioned into three single-output regression problems:\n",
    "\n",
    "    Problem 1: Given X, predict y1.\n",
    "    Problem 2: Given X, predict y2.\n",
    "    Problem 3: Given X, predict y3.\n",
    "\n",
    "There are two main approaches to implement this technique:\n",
    "Direct Multioutput: Develop an independent model for each numerical value to be predicted.\n",
    "Chained Multioutput: Develop a sequence of dependent models to match the number of numerical values to be predicted"
   ]
  },
  {
   "cell_type": "code",
   "execution_count": 21,
   "metadata": {},
   "outputs": [
    {
     "name": "stdout",
     "output_type": "stream",
     "text": [
      "Predicted: [55.15287809 53.52992398]\n"
     ]
    }
   ],
   "source": [
    "# example of making a prediction with the direct multioutput regression model\n",
    "from sklearn.multioutput import MultiOutputRegressor\n",
    "from sklearn.svm import LinearSVR\n",
    "# define dataset\n",
    "X, y = make_regression(n_samples=1000, n_features=10, n_informative=5, n_targets=2)\n",
    "# define base model\n",
    "model = LinearSVR()\n",
    "# define the direct multioutput wrapper model\n",
    "wrapper = MultiOutputRegressor(model)\n",
    "# fit the model on the whole dataset\n",
    "wrapper.fit(X, y)\n",
    "# make a single prediction\n",
    "test_data = [[0.21947749, 0.32948997, 0.81560036, 0.440956, -0.0606303, -0.29257894, -0.2820059, -0.00290545, 0.96402263, 0.04992249]]\n",
    "yhat = wrapper.predict(test_data)\n",
    "# summarize the prediction\n",
    "print('Predicted: %s' % yhat[0])"
   ]
  },
  {
   "cell_type": "code",
   "execution_count": 22,
   "metadata": {},
   "outputs": [
    {
     "name": "stdout",
     "output_type": "stream",
     "text": [
      "Predicted: [ 58.64400394 -28.9040808 ]\n"
     ]
    }
   ],
   "source": [
    "# example of making a prediction with the chained multioutput regression model\n",
    "from sklearn.multioutput import RegressorChain\n",
    "from sklearn.svm import LinearSVR\n",
    "# define dataset\n",
    "X, y = make_regression(n_samples=1000, n_features=10, n_informative=5, n_targets=2)\n",
    "# define base model\n",
    "model = LinearSVR()\n",
    "# define the chained multioutput wrapper model\n",
    "wrapper = RegressorChain(model)\n",
    "# fit the model on the whole dataset\n",
    "wrapper.fit(X, y)\n",
    "# make a single prediction\n",
    "test_data = [0.21947749, 0.32948997, 0.81560036, 0.440956, -0.0606303, -0.29257894, -0.2820059, -0.00290545, 0.96402263, 0.04992249]\n",
    "yhat = wrapper.predict([test_data])\n",
    "# summarize the prediction\n",
    "print('Predicted: %s' % yhat[0])"
   ]
  },
  {
   "cell_type": "markdown",
   "metadata": {},
   "source": [
    "Cross Validation for SVR"
   ]
  },
  {
   "cell_type": "code",
   "execution_count": 23,
   "metadata": {},
   "outputs": [
    {
     "name": "stdout",
     "output_type": "stream",
     "text": [
      "[3.48890614e-05 8.89819652e-06 2.69749012e-05 1.24397664e-04\n",
      " 6.66643593e-05]\n",
      "MAE: 0.000 (0.000)\n"
     ]
    }
   ],
   "source": [
    "# example of evaluating chained multioutput regression with an SVM model\n",
    "from numpy import mean\n",
    "from numpy import std\n",
    "from numpy import absolute\n",
    "from sklearn.datasets import make_regression\n",
    "from sklearn.model_selection import cross_val_score\n",
    "from sklearn.model_selection import RepeatedKFold\n",
    "from sklearn.multioutput import RegressorChain\n",
    "from sklearn.svm import LinearSVR\n",
    "# define dataset\n",
    "X, y = make_regression(n_samples=1000, n_features=10, n_informative=5, n_targets=2)\n",
    "# define base model\n",
    "model = LinearSVR()\n",
    "# define the chained multioutput wrapper model\n",
    "wrapper = RegressorChain(model)\n",
    "# define the evaluation procedure\n",
    "cv = RepeatedKFold(n_splits=10, n_repeats=3, random_state=1)\n",
    "# evaluate the model and collect the scores\n",
    "n_scores = cross_val_score(wrapper, X, y, scoring='neg_mean_absolute_error', cv=5)\n",
    "# force the scores to be positive\n",
    "n_scores = absolute(n_scores)\n",
    "# summarize performance\n",
    "print(n_scores)\n",
    "print('MAE: %.3f (%.3f)' % (mean(n_scores), std(n_scores)))"
   ]
  }
 ],
 "metadata": {
  "kernelspec": {
   "display_name": "Python 3",
   "language": "python",
   "name": "python3"
  },
  "language_info": {
   "codemirror_mode": {
    "name": "ipython",
    "version": 3
   },
   "file_extension": ".py",
   "mimetype": "text/x-python",
   "name": "python",
   "nbconvert_exporter": "python",
   "pygments_lexer": "ipython3",
   "version": "3.8.3"
  }
 },
 "nbformat": 4,
 "nbformat_minor": 4
}
